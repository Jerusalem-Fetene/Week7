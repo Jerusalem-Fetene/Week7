{
  "cells": [
    {
      "cell_type": "markdown",
      "metadata": {},
      "source": [
        "## Data scraping and collection pipeline (Task 1)"
      ]
    },
    {
      "cell_type": "code",
      "execution_count": 1,
      "metadata": {
        "colab": {
          "base_uri": "https://localhost:8080/"
        },
        "id": "vlx_m5aypKUd",
        "outputId": "3bb97100-05b4-45b1-8a01-cf88fdaba099"
      },
      "outputs": [
        {
          "name": "stdout",
          "output_type": "stream",
          "text": [
            "Requirement already satisfied: beautifulsoup4 in c:\\users\\you\\appdata\\local\\programs\\python\\python312\\lib\\site-packages (4.12.3)\n",
            "Requirement already satisfied: pandas in c:\\users\\you\\appdata\\local\\programs\\python\\python312\\lib\\site-packages (2.2.2)\n",
            "Requirement already satisfied: soupsieve>1.2 in c:\\users\\you\\appdata\\local\\programs\\python\\python312\\lib\\site-packages (from beautifulsoup4) (2.6)\n",
            "Requirement already satisfied: numpy>=1.26.0 in c:\\users\\you\\appdata\\local\\programs\\python\\python312\\lib\\site-packages (from pandas) (1.26.4)\n",
            "Requirement already satisfied: python-dateutil>=2.8.2 in c:\\users\\you\\appdata\\local\\programs\\python\\python312\\lib\\site-packages (from pandas) (2.9.0.post0)\n",
            "Requirement already satisfied: pytz>=2020.1 in c:\\users\\you\\appdata\\local\\programs\\python\\python312\\lib\\site-packages (from pandas) (2024.1)\n",
            "Requirement already satisfied: tzdata>=2022.7 in c:\\users\\you\\appdata\\local\\programs\\python\\python312\\lib\\site-packages (from pandas) (2024.1)\n",
            "Requirement already satisfied: six>=1.5 in c:\\users\\you\\appdata\\local\\programs\\python\\python312\\lib\\site-packages (from python-dateutil>=2.8.2->pandas) (1.16.0)\n"
          ]
        }
      ],
      "source": [
        "!pip install beautifulsoup4 pandas"
      ]
    },
    {
      "cell_type": "code",
      "execution_count": 4,
      "metadata": {},
      "outputs": [
        {
          "name": "stdout",
          "output_type": "stream",
          "text": [
            "Requirement already satisfied: telethon in c:\\users\\you\\appdata\\local\\programs\\python\\python312\\lib\\site-packages (1.37.0)Note: you may need to restart the kernel to use updated packages.\n",
            "\n",
            "Requirement already satisfied: pyaes in c:\\users\\you\\appdata\\local\\programs\\python\\python312\\lib\\site-packages (from telethon) (1.6.1)\n",
            "Requirement already satisfied: rsa in c:\\users\\you\\appdata\\local\\programs\\python\\python312\\lib\\site-packages (from telethon) (4.9)\n",
            "Requirement already satisfied: pyasn1>=0.1.3 in c:\\users\\you\\appdata\\local\\programs\\python\\python312\\lib\\site-packages (from rsa->telethon) (0.6.1)\n"
          ]
        }
      ],
      "source": [
        "pip install telethon"
      ]
    },
    {
      "cell_type": "code",
      "execution_count": 18,
      "metadata": {},
      "outputs": [
        {
          "name": "stdout",
          "output_type": "stream",
          "text": [
            "Note: you may need to restart the kernel to use updated packages.\n"
          ]
        },
        {
          "name": "stderr",
          "output_type": "stream",
          "text": [
            "ERROR: Could not find a version that satisfies the requirement google-colab (from versions: none)\n",
            "ERROR: No matching distribution found for google-colab\n"
          ]
        }
      ],
      "source": [
        "pip install google-colab"
      ]
    },
    {
      "cell_type": "code",
      "execution_count": 19,
      "metadata": {
        "colab": {
          "base_uri": "https://localhost:8080/",
          "height": 206
        },
        "id": "nJZA4ba7qt4g",
        "outputId": "8f5a02e9-9364-4736-9e34-cd558753841b"
      },
      "outputs": [
        {
          "ename": "ModuleNotFoundError",
          "evalue": "No module named 'google.colab'",
          "output_type": "error",
          "traceback": [
            "\u001b[1;31m---------------------------------------------------------------------------\u001b[0m",
            "\u001b[1;31mModuleNotFoundError\u001b[0m                       Traceback (most recent call last)",
            "Cell \u001b[1;32mIn[19], line 4\u001b[0m\n\u001b[0;32m      2\u001b[0m \u001b[38;5;28;01mimport\u001b[39;00m \u001b[38;5;21;01mpandas\u001b[39;00m \u001b[38;5;28;01mas\u001b[39;00m \u001b[38;5;21;01mpd\u001b[39;00m\n\u001b[0;32m      3\u001b[0m \u001b[38;5;28;01mfrom\u001b[39;00m \u001b[38;5;21;01mbs4\u001b[39;00m \u001b[38;5;28;01mimport\u001b[39;00m BeautifulSoup\n\u001b[1;32m----> 4\u001b[0m \u001b[38;5;28;01mfrom\u001b[39;00m \u001b[38;5;21;01mgoogle\u001b[39;00m\u001b[38;5;21;01m.\u001b[39;00m\u001b[38;5;21;01mcolab\u001b[39;00m \u001b[38;5;28;01mimport\u001b[39;00m files\n\u001b[0;32m      5\u001b[0m \u001b[38;5;28;01mimport\u001b[39;00m \u001b[38;5;21;01mlogging\u001b[39;00m\n\u001b[0;32m      7\u001b[0m \u001b[38;5;66;03m# Configure logging\u001b[39;00m\n",
            "\u001b[1;31mModuleNotFoundError\u001b[0m: No module named 'google.colab'"
          ]
        }
      ],
      "source": [
        "import os\n",
        "import pandas as pd\n",
        "from bs4 import BeautifulSoup\n",
        "from google.colab import files\n",
        "import logging\n",
        "\n",
        "# Configure logging\n",
        "logging.basicConfig(filename='datascraping.log', level=logging.INFO, format='%(asctime)s - %(levelname)s - %(message)s', datefmt='%Y-%m-%d %H:%M:%S')\n",
        "\n",
        "# Function to parse individual HTML files\n",
        "def parse_html_file(file_path):\n",
        "    logging.info(f'Parsing HTML file: {file_path}')\n",
        "    with open(file_path, 'r', encoding='utf-8') as file:\n",
        "        soup = BeautifulSoup(file, 'html.parser')\n",
        "\n",
        "        messages = []\n",
        "\n",
        "        # Extracting message content\n",
        "        for message in soup.find_all('div', class_='message'):\n",
        "            # Extract date\n",
        "            date_div = message.find('div', class_='pull_right date details')\n",
        "            date_content = date_div['title'] if date_div else ''\n",
        "\n",
        "            # Extract text content\n",
        "            text_div = message.find('div', class_='text')\n",
        "            text_content = text_div.get_text(separator=\" \", strip=True) if text_div else ''\n",
        "\n",
        "            # Extract title\n",
        "            from_name_div = message.find('div', class_='from_name')\n",
        "            title_content = from_name_div.get_text(strip=True) if from_name_div else ''\n",
        "\n",
        "            # Extract image URL\n",
        "            image_wrap = message.find('a', class_='photo_wrap')\n",
        "            image_url = image_wrap['href'] if image_wrap else ''\n",
        "\n",
        "            # Append extracted information to the list\n",
        "            messages.append({\n",
        "                'date': date_content,\n",
        "                'message': text_content,\n",
        "                'title': title_content,\n",
        "                'img': image_url\n",
        "            })\n",
        "        logging.info(f'Extracted {len(messages)} messages from {file_path}')\n",
        "        return messages\n",
        "\n",
        "# List of HTML files directly stored in the Colab root\n",
        "html_files = [\n",
        "    'doctor.html',  # replace with your actual file names\n",
        "    # 'doctorEth.html',\n",
        "    'messages.html'\n",
        "    # Add more files as needed\n",
        "]\n",
        "\n",
        "# Aggregate data from all HTML files\n",
        "#all_messages =\n",
        "all_messages = []\n",
        "for filename in html_files:\n",
        "    try:\n",
        "        all_messages.extend(parse_html_file(filename))\n",
        "    except Exception as e:\n",
        "        logging.error(f'Error parsing file {filename}: {e}')\n",
        "\n",
        "# Convert to DataFrame\n",
        "logging.info('Converting extracted data to DataFrame')\n",
        "df = pd.DataFrame(all_messages)\n",
        "\n",
        "# Save to CSV\n",
        "logging.info('Saving extracted data to CSV file')\n",
        "df.to_csv('extracted_data.csv', index=False)\n",
        "\n",
        "# Download the CSV file\n",
        "logging.info('Downloading the CSV file')\n",
        "files.download('extracted_data.csv')\n",
        "\n",
        "# Show the DataFrame\n",
        "logging.info('Displaying the first few rows of the DataFrame')\n",
        "df.head()\n"
      ]
    },
    {
      "cell_type": "markdown",
      "metadata": {},
      "source": [
        "##### Run the Script\n",
        "1) Save the script to data_scrap.py file.\n",
        "2) Run the script using Python"
      ]
    },
    {
      "cell_type": "code",
      "execution_count": null,
      "metadata": {},
      "outputs": [],
      "source": [
        "python data_scrap.py"
      ]
    }
  ],
  "metadata": {
    "colab": {
      "provenance": []
    },
    "kernelspec": {
      "display_name": "Python 3",
      "name": "python3"
    },
    "language_info": {
      "codemirror_mode": {
        "name": "ipython",
        "version": 3
      },
      "file_extension": ".py",
      "mimetype": "text/x-python",
      "name": "python",
      "nbconvert_exporter": "python",
      "pygments_lexer": "ipython3",
      "version": "3.12.6"
    }
  },
  "nbformat": 4,
  "nbformat_minor": 0
}
